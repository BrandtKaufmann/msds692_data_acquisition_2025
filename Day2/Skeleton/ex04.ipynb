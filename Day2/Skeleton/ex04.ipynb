{
 "cells": [
  {
   "cell_type": "markdown",
   "id": "ec4bfbcb",
   "metadata": {},
   "source": [
    "## Reading PDFs"
   ]
  },
  {
   "cell_type": "code",
   "execution_count": 1,
   "id": "eadf4cfd",
   "metadata": {},
   "outputs": [
    {
     "name": "stderr",
     "output_type": "stream",
     "text": [
      "/opt/homebrew/anaconda3/envs/msds692/lib/python3.13/site-packages/pypdf/_crypt_providers/_cryptography.py:32: CryptographyDeprecationWarning: ARC4 has been moved to cryptography.hazmat.decrepit.ciphers.algorithms.ARC4 and will be removed from cryptography.hazmat.primitives.ciphers.algorithms in 48.0.0.\n",
      "  from cryptography.hazmat.primitives.ciphers.algorithms import AES, ARC4\n"
     ]
    }
   ],
   "source": [
    "from pypdf import PdfReader"
   ]
  },
  {
   "cell_type": "code",
   "execution_count": 2,
   "id": "508b7499",
   "metadata": {},
   "outputs": [],
   "source": [
    "# Reading from the local path.\n",
    "\n",
    "file_path = \"../../Data/microplastic-levels-in-sf-bay-final-report.pdf\"\n"
   ]
  },
  {
   "cell_type": "code",
   "execution_count": 10,
   "id": "211544a9",
   "metadata": {},
   "outputs": [],
   "source": [
    "# Reading from the web.\n",
    "from io import BytesIO\n",
    "import requests\n",
    "\n",
    "url = 'https://data.cnra.ca.gov/dataset/78ac95ac-9665-4e53-aea6-ad0762055cce/resource/7247f0f6-915f-47fb-a9a2-81789cf40b37/download/microplastic-levels-in-sf-bay-final-report.pdf'"
   ]
  },
  {
   "cell_type": "markdown",
   "id": "0b84c440",
   "metadata": {},
   "source": [
    "Ex 4. Return a list of dictionary of `{page_number: text}` all the pages including `anchovies`"
   ]
  },
  {
   "cell_type": "code",
   "execution_count": 4,
   "id": "7706f0a3",
   "metadata": {},
   "outputs": [],
   "source": [
    "from pypdf import PdfReader\n",
    "\n",
    "url = 'https://data.cnra.ca.gov/dataset/78ac95ac-9665-4e53-aea6-ad0762055cce/resource/7247f0f6-915f-47fb-a9a2-81789cf40b37/download/microplastic-levels-in-sf-bay-final-report.pdf'\n",
    "key_word = 'anchovies'\n"
   ]
  },
  {
   "cell_type": "code",
   "execution_count": 6,
   "id": "6a6024f1",
   "metadata": {},
   "outputs": [],
   "source": [
    "r = requests.get(url)"
   ]
  },
  {
   "cell_type": "code",
   "execution_count": 11,
   "id": "f331eded",
   "metadata": {},
   "outputs": [],
   "source": [
    "data = BytesIO(r.content)"
   ]
  },
  {
   "cell_type": "code",
   "execution_count": 13,
   "id": "0286e608",
   "metadata": {},
   "outputs": [
    {
     "data": {
      "text/plain": [
       "_io.BytesIO"
      ]
     },
     "execution_count": 13,
     "metadata": {},
     "output_type": "execute_result"
    }
   ],
   "source": [
    "type(data)"
   ]
  },
  {
   "cell_type": "code",
   "execution_count": 14,
   "id": "ecd45fe4",
   "metadata": {},
   "outputs": [],
   "source": [
    "reader = PdfReader(data)"
   ]
  },
  {
   "cell_type": "code",
   "execution_count": 20,
   "id": "2042f754",
   "metadata": {},
   "outputs": [],
   "source": [
    "output = []\n",
    "for pagenum, page in enumerate(reader.pages, start=1):\n",
    "    text = page.extract_text()\n",
    "    if \"anchovies\" in text:\n",
    "        output.append({pagenum:text})  "
   ]
  },
  {
   "cell_type": "code",
   "execution_count": 21,
   "id": "84635918",
   "metadata": {},
   "outputs": [
    {
     "data": {
      "text/plain": [
       "{8: 'Executive Summary \\n   viii “margins” of the Bay, in open portions of the Bay, and in a less urban reference area (Tomales Bay).  Microparticles were identified in sediment from all 20 sites. Fibers, followed by fragments, were the most abundant type of microparticles in Bay sediment, with detected concentrations ranging between 1 and 49 microfibers per gram dry weight (dw), and between 0.1 and 11 non-fiber microparticles (including fragments, films, spheres, and foams) per gram dw. The highest concentrations of microparticles were measured in Lower South Bay, which is strongly influenced by wastewater and urban stormwater discharges. Concentrations at the reference site, Tomales Bay, were among the lowest observed in the study.  Black fragments that had a rubbery texture were frequently detected in sediment samples.  Spectroscopy was unable to identify the composition; however, based on secondary characteristics, these particles were similar to particles that had been previously identified as rubber by FTIR spectroscopy. These particles were also similar to the black, rubbery fragments that were abundant in stormwater, suggesting that stormwater is an important pathway for microparticles to reach Bay sediment, and that inputs from tire wear and perhaps use of recycled tires (e.g., artificial turf) may also merit further investigation. Microparticle and microplastic concentrations in the Bay sediment were higher than those reported in the majority of other regions around the globe. PREY FISH To evaluate the uptake of microplastics into the food web, two prey fish species, topsmelt and Northern anchovy, were sampled at six sites in the Bay, as well as two sites in a less urban reference area (Tomales Bay).  At each site, approximately 10 fish of each species were collected, and the digestive tracts were analyzed for microparticles and microplastics.  Microparticle levels in fish from San Francisco Bay were higher than levels in fish from Tomales Bay. Fibers were particularly abundant; while most fibers were dyed and therefore produced by people, few could be identified conclusively as plastic. At least 38% of fish from the Bay had consumed microparticles. The estimated average number of microplastics was between 0.2 and 0.9 non-fiber microplastics per fish and between 0.6 and 4.5 plastic fibers per fish. While fibers were detected in all fish from the Bay regardless of species, non-fiber microparticles were more frequently detected in topsmelt compared to anchovies. The microplastic counts and detection frequencies in the Bay were comparable to counts reported in many other locations. '}"
      ]
     },
     "execution_count": 21,
     "metadata": {},
     "output_type": "execute_result"
    }
   ],
   "source": [
    "output[0]"
   ]
  }
 ],
 "metadata": {
  "kernelspec": {
   "display_name": "msds692",
   "language": "python",
   "name": "python3"
  },
  "language_info": {
   "codemirror_mode": {
    "name": "ipython",
    "version": 3
   },
   "file_extension": ".py",
   "mimetype": "text/x-python",
   "name": "python",
   "nbconvert_exporter": "python",
   "pygments_lexer": "ipython3",
   "version": "3.13.5"
  }
 },
 "nbformat": 4,
 "nbformat_minor": 5
}
